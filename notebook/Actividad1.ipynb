{
 "cells": [
  {
   "cell_type": "markdown",
   "id": "7e666846",
   "metadata": {},
   "source": [
    "ACTIVIDAD 1-TALLER DE LENGUAJES-PYTHON\n",
    "\n",
    "1. Calcule el puntaje de cada equipo en cada ronda usando la fórmula:\n",
    "  +3 puntos por cada punto en innovación\n",
    "  +1 punto por cada punto en presentación\n",
    "  -1 punto si tuvo errores graves (True)\n",
    "\n",
    "2. Determine el Mejor Equipo de cada ronda(MER) (el que tenga mayor puntaje en esa ronda)\n",
    "\n",
    "3. Mantenga un acumulado de:\n",
    " -Total de puntos de innovación y presentación por equipo\n",
    " -Cantidad de errores graves por equipo\n",
    " -Cantidad de veces que cada equipo fue el mejor\n",
    " -Puntos totales por equipo\n",
    "\n",
    "4. Muestre una tabla de resultados después de procesar cada ronda, con los equipos ordenados por puntaje total descendente\n",
    "\n",
    "5. Muestre el Mejor Equipo de cada ronda"
   ]
  },
  {
   "cell_type": "code",
   "execution_count": 8,
   "id": "7c3572b7",
   "metadata": {},
   "outputs": [],
   "source": [
    "import sys\n",
    "sys.path.append(\"../src\")\n",
    "from funciones import calcular_puntaje, mostrar_tabla, equipos_con_errores\n",
    "\n",
    "\n",
    "evaluaciones = [\n",
    " # Ronda 1\n",
    " {\n",
    " 'EquipoA': {'innovacion': 2, 'presentacion': 1, 'errores': True},\n",
    " 'EquipoB': {'innovacion': 1, 'presentacion': 0, 'errores': False},\n",
    " 'EquipoC': {'innovacion': 1, 'presentacion': 2, 'errores': True},\n",
    " 'EquipoD': {'innovacion': 0, 'presentacion': 1, 'errores': False},\n",
    " 'EquipoE': {'innovacion': 1, 'presentacion': 1, 'errores': False}\n",
    " },\n",
    " # Ronda 2\n",
    " {\n",
    " 'EquipoA': {'innovacion': 0, 'presentacion': 2, 'errores': False},\n",
    " 'EquipoB': {'innovacion': 2, 'presentacion': 0, 'errores': True},\n",
    " 'EquipoC': {'innovacion': 1, 'presentacion': 1, 'errores': False},\n",
    " 'EquipoD': {'innovacion': 2, 'presentacion': 1, 'errores': True},\n",
    " 'EquipoE': {'innovacion': 0, 'presentacion': 1, 'errores': False}\n",
    " },\n",
    " # Ronda 3\n",
    " {\n",
    " 'EquipoA': {'innovacion': 3, 'presentacion': 2, 'errores': False},\n",
    " 'EquipoB': {'innovacion': 1, 'presentacion': 1, 'errores': True},\n",
    " 'EquipoC': {'innovacion': 2, 'presentacion': 0, 'errores': False},\n",
    " 'EquipoD': {'innovacion': 1, 'presentacion': 3, 'errores': True},\n",
    " 'EquipoE': {'innovacion': 2, 'presentacion': 2, 'errores': False}\n",
    " },\n",
    " # Ronda 4\n",
    " {\n",
    " 'EquipoA': {'innovacion': 1, 'presentacion': 3, 'errores': True},\n",
    " 'EquipoB': {'innovacion': 2, 'presentacion': 2, 'errores': False},\n",
    " 'EquipoC': {'innovacion': 3, 'presentacion': 1, 'errores': False},\n",
    " 'EquipoD': {'innovacion': 0, 'presentacion': 2, 'errores': True},\n",
    " 'EquipoE': {'innovacion': 2, 'presentacion': 0, 'errores': False}\n",
    " },\n",
    " # Ronda 5\n",
    " {\n",
    " 'EquipoA': {'innovacion': 2, 'presentacion': 2, 'errores': False},\n",
    " 'EquipoB': {'innovacion': 1, 'presentacion': 3, 'errores': True},\n",
    " 'EquipoC': {'innovacion': 0, 'presentacion': 2, 'errores': False},\n",
    " 'EquipoD': {'innovacion': 3, 'presentacion': 1, 'errores': False},\n",
    " 'EquipoE': {'innovacion': 2, 'presentacion': 3, 'errores': True}\n",
    " }\n",
    "]\n",
    "\n"
   ]
  }
 ],
 "metadata": {
  "kernelspec": {
   "display_name": "Python 3",
   "language": "python",
   "name": "python3"
  },
  "language_info": {
   "codemirror_mode": {
    "name": "ipython",
    "version": 3
   },
   "file_extension": ".py",
   "mimetype": "text/x-python",
   "name": "python",
   "nbconvert_exporter": "python",
   "pygments_lexer": "ipython3",
   "version": "3.12.3"
  }
 },
 "nbformat": 4,
 "nbformat_minor": 5
}
