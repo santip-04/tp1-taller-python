{
 "cells": [
  {
   "cell_type": "code",
   "execution_count": 4,
   "id": "7c3572b7",
   "metadata": {},
   "outputs": [],
   "source": [
    "evaluaciones = [\n",
    " # Ronda 1\n",
    " {\n",
    " 'EquipoA': {'innovacion': 2, 'presentacion': 1, 'errores': True},\n",
    " 'EquipoB': {'innovacion': 1, 'presentacion': 0, 'errores': False},\n",
    " 'EquipoC': {'innovacion': 1, 'presentacion': 2, 'errores': True},\n",
    " 'EquipoD': {'innovacion': 0, 'presentacion': 1, 'errores': False},\n",
    " 'EquipoE': {'innovacion': 1, 'presentacion': 1, 'errores': False}\n",
    " },\n",
    " # Ronda 2\n",
    " {\n",
    " 'EquipoA': {'innovacion': 0, 'presentacion': 2, 'errores': False},\n",
    " 'EquipoB': {'innovacion': 2, 'presentacion': 0, 'errores': True},\n",
    " 'EquipoC': {'innovacion': 1, 'presentacion': 1, 'errores': False},\n",
    " 'EquipoD': {'innovacion': 2, 'presentacion': 1, 'errores': True},\n",
    " 'EquipoE': {'innovacion': 0, 'presentacion': 1, 'errores': False}\n",
    " },\n",
    " # Ronda 3\n",
    " {\n",
    " 'EquipoA': {'innovacion': 3, 'presentacion': 2, 'errores': False},\n",
    " 'EquipoB': {'innovacion': 1, 'presentacion': 1, 'errores': True},\n",
    " 'EquipoC': {'innovacion': 2, 'presentacion': 0, 'errores': False},\n",
    " 'EquipoD': {'innovacion': 1, 'presentacion': 3, 'errores': True},\n",
    " 'EquipoE': {'innovacion': 2, 'presentacion': 2, 'errores': False}\n",
    " },\n",
    " # Ronda 4\n",
    " {\n",
    " 'EquipoA': {'innovacion': 1, 'presentacion': 3, 'errores': True},\n",
    " 'EquipoB': {'innovacion': 2, 'presentacion': 2, 'errores': False},\n",
    " 'EquipoC': {'innovacion': 3, 'presentacion': 1, 'errores': False},\n",
    " 'EquipoD': {'innovacion': 0, 'presentacion': 2, 'errores': True},\n",
    " 'EquipoE': {'innovacion': 2, 'presentacion': 0, 'errores': False}\n",
    " },\n",
    " # Ronda 5\n",
    " {\n",
    " 'EquipoA': {'innovacion': 2, 'presentacion': 2, 'errores': False},\n",
    " 'EquipoB': {'innovacion': 1, 'presentacion': 3, 'errores': True},\n",
    " 'EquipoC': {'innovacion': 0, 'presentacion': 2, 'errores': False},\n",
    " 'EquipoD': {'innovacion': 3, 'presentacion': 1, 'errores': False},\n",
    " 'EquipoE': {'innovacion': 2, 'presentacion': 3, 'errores': True}\n",
    " }\n",
    "]\n"
   ]
  }
 ],
 "metadata": {
  "kernelspec": {
   "display_name": "Python 3",
   "language": "python",
   "name": "python3"
  },
  "language_info": {
   "codemirror_mode": {
    "name": "ipython",
    "version": 3
   },
   "file_extension": ".py",
   "mimetype": "text/x-python",
   "name": "python",
   "nbconvert_exporter": "python",
   "pygments_lexer": "ipython3",
   "version": "3.12.3"
  }
 },
 "nbformat": 4,
 "nbformat_minor": 5
}
